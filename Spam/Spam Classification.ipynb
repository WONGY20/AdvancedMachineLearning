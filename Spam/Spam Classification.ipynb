{
 "cells": [
  {
   "cell_type": "markdown",
   "metadata": {},
   "source": [
    "# Classify Spam using Adaboost and XGBoost\n",
    "\n"
   ]
  },
  {
   "cell_type": "markdown",
   "metadata": {
    "deletable": false,
    "editable": false,
    "nbgrader": {
     "checksum": "48de53d81aa50d97046cca0ddb2f2d2d",
     "grade": false,
     "grade_id": "cell-cfc24d80c2cf2c24",
     "locked": true,
     "schema_version": 1,
     "solution": false
    }
   },
   "source": [
    "# Adaboost\n",
    "For this exercise you will implement AdaBoost from scratch and applied it to a spam dataset. You will be classifying data into spam and not spam. You can call DecisionTreeClassifier from sklearn to learn your base classifiers.\n",
    "\n",
    "Here is how you train a decision tree classifier with weights.\n",
    "\n",
    "`\n",
    "h = DecisionTreeClassifier(max_depth=1, random_state=0)\n",
    "h.fit(X, Y, sample_weight=w)\n",
    "`"
   ]
  },
  {
   "cell_type": "markdown",
   "metadata": {},
   "source": [
    "Implementing AdaBoost with trees:"
   ]
  },
  {
   "cell_type": "code",
   "execution_count": 1,
   "metadata": {
    "collapsed": true,
    "deletable": false,
    "editable": false,
    "nbgrader": {
     "checksum": "721eeb40a1514114e45b42ea010de91b",
     "grade": false,
     "grade_id": "cell-3478d607a536190b",
     "locked": true,
     "schema_version": 1,
     "solution": false
    }
   },
   "outputs": [],
   "source": [
    "import numpy as np\n",
    "from sklearn.tree import DecisionTreeClassifier"
   ]
  },
  {
   "cell_type": "code",
   "execution_count": 2,
   "metadata": {
    "collapsed": true,
    "deletable": false,
    "editable": false,
    "nbgrader": {
     "checksum": "1410ebe73ffc63306e4c15b6698a7188",
     "grade": false,
     "grade_id": "cell-c56cb727222d9503",
     "locked": true,
     "schema_version": 1,
     "solution": false
    }
   },
   "outputs": [],
   "source": [
    "# accuracy computation\n",
    "def accuracy(y, pred):\n",
    "    return np.sum(y == pred) / float(len(y)) "
   ]
  },
  {
   "cell_type": "code",
   "execution_count": 3,
   "metadata": {
    "collapsed": true,
    "deletable": false,
    "nbgrader": {
     "checksum": "d133f796b3b7db028e1c1ed875771c65",
     "grade": false,
     "grade_id": "cell-1eaf818528c8d676",
     "locked": false,
     "schema_version": 1,
     "solution": true
    }
   },
   "outputs": [],
   "source": [
    "import pandas as pd\n",
    "def parse_spambase_data(filename):\n",
    "    \"\"\" Given a filename return X and Y numpy arrays\n",
    "\n",
    "    X is of size number of rows x num_features\n",
    "    Y is an array of size the number of rows\n",
    "    Y is the last element of each row. (Convert 0 to -1)\n",
    "    \"\"\"\n",
    "    # YOUR CODE HERE\n",
    "    f = np.genfromtxt(filename,delimiter=',')\n",
    "    X, Y = f[:,0:-1],f[:,-1]\n",
    "    Y[Y==0]=-1\n",
    "    return X, Y"
   ]
  },
  {
   "cell_type": "code",
   "execution_count": 4,
   "metadata": {
    "collapsed": true,
    "deletable": false,
    "editable": false,
    "nbgrader": {
     "checksum": "871278b33c2d3da9fb8d7cbf4f4dd23d",
     "grade": true,
     "grade_id": "cell-73926460e1f70f54",
     "locked": true,
     "points": 1,
     "schema_version": 1,
     "solution": false
    }
   },
   "outputs": [],
   "source": [
    "y_test = np.array([1., -1., 1., 1., -1., -1., 1., 1., 1., -1.])\n",
    "X, Y = parse_spambase_data(\"tiny.spam.train\")\n",
    "for i in range(len(y_test)): assert(y_test[i] == Y[i])\n",
    "n, m = X.shape\n",
    "assert(n == 10)\n",
    "assert(m == 57)"
   ]
  },
  {
   "cell_type": "code",
   "execution_count": 5,
   "metadata": {
    "collapsed": true,
    "deletable": false,
    "nbgrader": {
     "checksum": "3a188c77e59b3b431b59f03ddf7bbe7d",
     "grade": false,
     "grade_id": "cell-befcece7be9c6839",
     "locked": false,
     "schema_version": 1,
     "solution": true
    }
   },
   "outputs": [],
   "source": [
    "def adaboost(X, y, num_iter):\n",
    "    \"\"\"Given an numpy matrix X, a array y and num_iter return trees and weights \n",
    "   \n",
    "    Input: X, y, num_iter\n",
    "    Outputs: array of trees from DecisionTreeClassifier\n",
    "             trees_weights array of floats\n",
    "    Assumes y is {-1, 1}\n",
    "    \"\"\"\n",
    "    trees = []\n",
    "    trees_weights = [] \n",
    "    N, _ = X.shape\n",
    "    w = np.ones(N) / N\n",
    "    # YOUR CODE HERE\n",
    "    for i in range(num_iter):\n",
    "        # fit and predict weak classifier h\n",
    "        h = DecisionTreeClassifier(max_depth=1, random_state=0)\n",
    "        h.fit(X, y, sample_weight=w)\n",
    "        trees.append(h)\n",
    "        pred = h.predict(X)\n",
    "        # calculate error rate\n",
    "        err = np.sum(w[y!=pred]) / np.sum(w)\n",
    "        # calculate voting power\n",
    "        if err > 0:\n",
    "            E = (1-err) / err\n",
    "            alpha = np.log(E)\n",
    "            # update weight\n",
    "            w[y!=pred] = w[y!=pred]*E\n",
    "        else: # all predictions are correct \n",
    "            trees_weights.append(1)   \n",
    "            return trees, trees_weights\n",
    "        trees_weights.append(alpha)    \n",
    "    return trees, trees_weights"
   ]
  },
  {
   "cell_type": "code",
   "execution_count": 6,
   "metadata": {
    "collapsed": true,
    "deletable": false,
    "editable": false,
    "nbgrader": {
     "checksum": "a6923d427eebd8af4c7ffa45586034e0",
     "grade": true,
     "grade_id": "cell-4dc8edbf0e11fab8",
     "locked": true,
     "points": 1,
     "schema_version": 1,
     "solution": false
    }
   },
   "outputs": [],
   "source": [
    "X, Y = parse_spambase_data(\"tiny.spam.train\")\n",
    "trees, weights = adaboost(X, Y, 2)\n",
    "assert(len(trees) == 2)\n",
    "assert(len(weights) == 2)\n",
    "assert(isinstance(trees[0], DecisionTreeClassifier))"
   ]
  },
  {
   "cell_type": "code",
   "execution_count": 7,
   "metadata": {
    "collapsed": true,
    "deletable": false,
    "editable": false,
    "nbgrader": {
     "checksum": "6ce0015d15c0c0df6be9c78e73bb0929",
     "grade": true,
     "grade_id": "cell-8702186fedbd58e1",
     "locked": true,
     "points": 2,
     "schema_version": 1,
     "solution": false
    }
   },
   "outputs": [],
   "source": [
    "x = np.array([[0, -1], [1, 0], [-1, 0]])\n",
    "y = np.array([-1, 1, 1])\n",
    "trees, weights = adaboost(x, y, 1)\n",
    "h = trees[0]\n",
    "pred = h.predict(x)\n",
    "for i in range(len(y)): assert(pred[i] == y[i])"
   ]
  },
  {
   "cell_type": "code",
   "execution_count": 8,
   "metadata": {
    "collapsed": true,
    "deletable": false,
    "nbgrader": {
     "checksum": "57a2d749acc1d974f996162a4fb190fc",
     "grade": false,
     "grade_id": "cell-50ad4a5c81e7c016",
     "locked": false,
     "schema_version": 1,
     "solution": true
    }
   },
   "outputs": [],
   "source": [
    "def adaboost_predict(X, trees, trees_weights):\n",
    "    \"\"\"Given X, trees and weights predict Y\n",
    "    \"\"\"\n",
    "    # X input, y output\n",
    "    #print(len(trees))\n",
    "    N, _ =  X.shape\n",
    "    y = np.zeros(N)\n",
    "    for i in range(len(trees)):\n",
    "        #print(trees_weights[i]*trees[i].predict(X))\n",
    "        y += trees_weights[i]*trees[i].predict(X)\n",
    "        \n",
    "    y = np.sign(y)\n",
    "    #y = list(map(int, y))\n",
    "    return y"
   ]
  },
  {
   "cell_type": "code",
   "execution_count": 9,
   "metadata": {
    "collapsed": true,
    "deletable": false,
    "editable": false,
    "nbgrader": {
     "checksum": "4f29500cb929b49fd0e3d7d7c2b528be",
     "grade": true,
     "grade_id": "cell-7f28f00061f7b5a5",
     "locked": true,
     "points": 3,
     "schema_version": 1,
     "solution": false
    }
   },
   "outputs": [],
   "source": [
    "x = np.array([[0, -1], [1, 0], [-1, 0]])\n",
    "y = np.array([-1, 1, 1])\n",
    "trees, weights = adaboost(x, y, 1)\n",
    "pred = adaboost_predict(x, trees, weights)\n",
    "for i in range(len(y)):\n",
    "    assert(pred[i] == y[i])"
   ]
  },
  {
   "cell_type": "code",
   "execution_count": 10,
   "metadata": {
    "deletable": false,
    "editable": false,
    "nbgrader": {
     "checksum": "6f5022208d3fd8fb43a8847635cdb82f",
     "grade": true,
     "grade_id": "cell-89126a5a7f8f0e1b",
     "locked": true,
     "points": 3,
     "schema_version": 1,
     "solution": false
    }
   },
   "outputs": [
    {
     "name": "stdout",
     "output_type": "stream",
     "text": [
      "Train Accuracy 0.9111\n",
      "Test Accuracy 0.9190\n"
     ]
    }
   ],
   "source": [
    "X, Y = parse_spambase_data(\"spambase.train\")\n",
    "X_test, Y_test = parse_spambase_data(\"spambase.test\")\n",
    "trees, trees_weights = adaboost(X, Y, 10)\n",
    "Yhat = adaboost_predict(X, trees, trees_weights)\n",
    "Yhat_test = adaboost_predict(X_test, trees, trees_weights)\n",
    "    \n",
    "acc_test = accuracy(Y_test, Yhat_test)\n",
    "acc_train = accuracy(Y, Yhat)\n",
    "print(\"Train Accuracy %.4f\" % acc_train)\n",
    "print(\"Test Accuracy %.4f\" % acc_test)\n",
    "assert(np.around(acc_train, decimals=4)==0.9111)\n",
    "assert(np.around(acc_test, decimals=4)==0.9190)"
   ]
  },
  {
   "cell_type": "markdown",
   "metadata": {},
   "source": [
    "## Training with different number of trees"
   ]
  },
  {
   "cell_type": "markdown",
   "metadata": {},
   "source": [
    "Apply AdaBoost to spambase dataset using different values\n",
    "for the number of trees numTrees. Find the best value for\n",
    "numTrees: Report train and validation accuracy for the best value\n",
    "of numTrees. Make a plot that shows your experiment (training and\n",
    "validation error as a function of the number of trees). "
   ]
  },
  {
   "cell_type": "code",
   "execution_count": 11,
   "metadata": {},
   "outputs": [
    {
     "name": "stdout",
     "output_type": "stream",
     "text": [
      "CPU times: user 53.1 s, sys: 323 ms, total: 53.5 s\n",
      "Wall time: 53.9 s\n"
     ]
    }
   ],
   "source": [
    "%%time\n",
    "X, Y = parse_spambase_data(\"spambase.train\")\n",
    "X_test, Y_test = parse_spambase_data(\"spambase.test\")\n",
    "trees, trees_weights = adaboost(X, Y, 10000)\n"
   ]
  },
  {
   "cell_type": "markdown",
   "metadata": {},
   "source": [
    "### Error plots"
   ]
  },
  {
   "cell_type": "code",
   "execution_count": 12,
   "metadata": {
    "collapsed": true
   },
   "outputs": [],
   "source": [
    "def accuracy_graph(X, Y, X_val, Y_val, trees, trees_weights, interval = 50):\n",
    "    \"\"\"Given X, trees and weights predict Y\n",
    "    \"\"\"\n",
    "    # X input, y output\n",
    "    N, M =  X.shape[0],X_val.shape[0]\n",
    "    #print(N, X.shape, X_val.shape)\n",
    "    y = np.zeros(N)\n",
    "    y_val = np.zeros(M)\n",
    "    accuracy_rate_trn = []\n",
    "    accuracy_rate_pred = []\n",
    "    for i in range(len(trees)):\n",
    "        y     += trees_weights[i]*trees[i].predict(X)\n",
    "        y_val += trees_weights[i]*trees[i].predict(X_val)\n",
    "        if (i+1) % interval == 0 and (i+1) >= 50: # min 50 trees\n",
    "            accuracy_rate_trn.append(accuracy(Y, np.sign(y)))\n",
    "            accuracy_rate_pred.append(accuracy(Y_val, np.sign(y_val)))\n",
    "    return accuracy_rate_trn, accuracy_rate_pred, np.linspace(50,10000,int(9950/50)+1)"
   ]
  },
  {
   "cell_type": "code",
   "execution_count": 13,
   "metadata": {},
   "outputs": [
    {
     "name": "stdout",
     "output_type": "stream",
     "text": [
      "CPU times: user 4.32 s, sys: 24.3 ms, total: 4.34 s\n",
      "Wall time: 4.35 s\n"
     ]
    }
   ],
   "source": [
    "%%time\n",
    "accuracy_rate_trn, accuracy_rate_pred, numTrees = accuracy_graph(X, Y, X_test, Y_test, trees, trees_weights)"
   ]
  },
  {
   "cell_type": "code",
   "execution_count": 14,
   "metadata": {},
   "outputs": [
    {
     "data": {
      "image/png": "[encoded data removed]",
      "text/plain": [
       "<matplotlib.figure.Figure at 0x1170b75c0>"
      ]
     },
     "metadata": {},
     "output_type": "display_data"
    }
   ],
   "source": [
    "import matplotlib.pyplot as plt\n",
    "plt.figure(figsize=(20,10))\n",
    "\n",
    "plt.plot(numTrees, np.ones(len(accuracy_rate_trn))-accuracy_rate_trn,label='training error')\n",
    "plt.plot(numTrees, np.ones(len(accuracy_rate_trn))-accuracy_rate_pred,label='validation error')\n",
    "plt.legend(bbox_to_anchor=(1.05, 1), loc=2, borderaxespad=0.,fontsize=20)\n",
    "plt.ylabel('Error rate',fontsize=15)\n",
    "plt.xlabel('numTrees',fontsize=15)\n",
    "plt.title('AdaBoost: numTrees selection, step = 50',fontsize=25)\n",
    "\n",
    "plt.show()"
   ]
  },
  {
   "cell_type": "code",
   "execution_count": 15,
   "metadata": {},
   "outputs": [
    {
     "data": {
      "text/plain": [
       "[0.95899999999999996, 0.95899999999999996, 0.95899999999999996]"
      ]
     },
     "execution_count": 15,
     "metadata": {},
     "output_type": "execute_result"
    }
   ],
   "source": [
    "# not unique select the least numTrees among them\n",
    "sorted(accuracy_rate_pred, reverse=True)[:3]"
   ]
  },
  {
   "cell_type": "markdown",
   "metadata": {},
   "source": [
    "We plot the training error and validation error against the number of trees in the diagram above. By selecting different number of intervals between points, we see generally adaboost starts to overfit (training error decreases where validation error does not) after 'numTrees' is greater than **3000**. In the case interval = 50, the best number of trees is 2663."
   ]
  },
  {
   "cell_type": "code",
   "execution_count": 16,
   "metadata": {},
   "outputs": [
    {
     "name": "stdout",
     "output_type": "stream",
     "text": [
      "best numTrees: 2700\n",
      "best validation error: 0.0410\n",
      "corresponding training error: 0.0364\n"
     ]
    }
   ],
   "source": [
    "best_idx = accuracy_rate_pred.index(max(accuracy_rate_pred))\n",
    "best_numtrees = numTrees[best_idx]\n",
    "print('best numTrees:', int(best_numtrees))\n",
    "print('best validation error: %.4f' % (1-accuracy_rate_pred[best_idx]))\n",
    "print('corresponding training error: %.4f' % (1-accuracy_rate_trn[best_idx]))"
   ]
  },
  {
   "cell_type": "markdown",
   "metadata": {},
   "source": [
    "## XGBoost comparison\n",
    "\n",
    "Compare your results with the results of running the gradient boosting package (XGBoost). Make a plot that shows the result of your experiments. Explore the hyper parameters given in the package."
   ]
  },
  {
   "cell_type": "code",
   "execution_count": 17,
   "metadata": {
    "collapsed": true
   },
   "outputs": [],
   "source": [
    "import xgboost as xgb\n",
    "import matplotlib.pylab as plt\n",
    "%matplotlib inline\n",
    "from sklearn.model_selection import GridSearchCV"
   ]
  },
  {
   "cell_type": "code",
   "execution_count": 18,
   "metadata": {
    "collapsed": true
   },
   "outputs": [],
   "source": [
    "# Use (0,1) instead of (-1,+1) for prediction\n",
    "Y = Y.clip(0,1)\n",
    "Y_test = Y_test.clip(0,1)\n",
    "# Create DMatrix for XGBoost\n",
    "dtrain = xgb.DMatrix(X, label=Y)\n",
    "dtest = xgb.DMatrix(X_test, label=Y_test)"
   ]
  },
  {
   "cell_type": "code",
   "execution_count": 19,
   "metadata": {
    "collapsed": true
   },
   "outputs": [],
   "source": [
    "# Initialize some parameters to check the result\n",
    "params = {\n",
    "    'max_depth': 3,\n",
    "    'learning_rate': 0.1,\n",
    "    'n_jobs':-1,\n",
    "    'eval_metric':['error'],\n",
    "    'objective': 'binary:logistic',\n",
    "    }\n",
    "\n",
    "watchlist = [(dtrain,'train'),(dtest,'eval')]\n",
    "evals_result = {}"
   ]
  },
  {
   "cell_type": "code",
   "execution_count": 20,
   "metadata": {},
   "outputs": [
    {
     "name": "stdout",
     "output_type": "stream",
     "text": [
      "[0]\ttrain-error:0.105833\teval-error:0.098\n",
      "Multiple eval metrics have been passed: 'eval-error' will be used for early stopping.\n",
      "\n",
      "Will train until eval-error hasn't improved in 200 rounds.\n",
      "[50]\ttrain-error:0.056944\teval-error:0.049\n",
      "[100]\ttrain-error:0.041667\teval-error:0.045\n",
      "[150]\ttrain-error:0.0325\teval-error:0.041\n",
      "[200]\ttrain-error:0.028056\teval-error:0.04\n",
      "[250]\ttrain-error:0.023056\teval-error:0.036\n",
      "[300]\ttrain-error:0.021389\teval-error:0.04\n",
      "[350]\ttrain-error:0.019167\teval-error:0.038\n",
      "[400]\ttrain-error:0.016667\teval-error:0.037\n",
      "Stopping. Best iteration:\n",
      "[246]\ttrain-error:0.023889\teval-error:0.036\n",
      "\n",
      "CPU times: user 7.46 s, sys: 909 ms, total: 8.37 s\n",
      "Wall time: 1.42 s\n"
     ]
    }
   ],
   "source": [
    "%%time\n",
    "xgb0 = xgb.train(params, dtrain, num_boost_round=2000, evals=watchlist, obj=None, \n",
    "                feval=None, maximize=False, early_stopping_rounds=200, \n",
    "                evals_result=evals_result, verbose_eval=50, xgb_model=None, \n",
    "                callbacks=None)\n",
    "\n",
    "# print('Access logloss metric directly from evals_result:')\n",
    "# print(evals_result['eval']['error'])"
   ]
  },
  {
   "cell_type": "markdown",
   "metadata": {},
   "source": [
    "### Parameter tunning\n",
    "based on the blogs: \n",
    "\n",
    "- https://www.analyticsvidhya.com/blog/2016/03/complete-guide-parameter-tuning-xgboost-with-codes-python/\n",
    "- https://cambridgespark.com/content/tutorials/hyperparameter-tuning-in-xgboost/index.html"
   ]
  },
  {
   "cell_type": "markdown",
   "metadata": {},
   "source": [
    "### General Approach for Parameter Tuning\n",
    "\n",
    "- Choose a relatively high learning rate. Generally a learning rate of 0.1 works but somewhere between 0.05 to 0.3 should work for different problems. Determine the optimum number of trees for this learning rate. XGBoost has a very useful function called as “cv” which performs cross-validation at each boosting iteration and thus returns the optimum number of trees required.\n",
    "- Tune tree-specific parameters ( max_depth, min_child_weight, gamma, subsample, colsample_bytree) for decided learning rate and number of trees. Note that we can choose different parameters to define a tree and I’ll take up an example here.\n",
    "- Tune regularization parameters (lambda, alpha) for xgboost which can help reduce model complexity and enhance performance.\n",
    "- Lower the learning rate and decide the optimal parameters."
   ]
  },
  {
   "cell_type": "markdown",
   "metadata": {},
   "source": [
    "### Step1: Fix learning rate and number of estimators for tuning tree-based parameters"
   ]
  },
  {
   "cell_type": "code",
   "execution_count": 21,
   "metadata": {
    "collapsed": true
   },
   "outputs": [],
   "source": [
    "params = {\n",
    "    'max_depth': 3,\n",
    "    'learning_rate': 0.05,\n",
    "    'n_jobs':-1,\n",
    "    'eval_metric':['error'],\n",
    "    'objective': 'binary:logistic',\n",
    "    }\n",
    "\n",
    "watchlist = [(dtrain,'train'),(dtest,'eval')]\n",
    "evals_result = {}"
   ]
  },
  {
   "cell_type": "code",
   "execution_count": 22,
   "metadata": {},
   "outputs": [
    {
     "name": "stdout",
     "output_type": "stream",
     "text": [
      "[0]\ttrain-error:0.105833\teval-error:0.098\n",
      "Multiple eval metrics have been passed: 'eval-error' will be used for early stopping.\n",
      "\n",
      "Will train until eval-error hasn't improved in 200 rounds.\n",
      "[50]\ttrain-error:0.067778\teval-error:0.056\n",
      "[100]\ttrain-error:0.056111\teval-error:0.051\n",
      "[150]\ttrain-error:0.048889\teval-error:0.049\n",
      "[200]\ttrain-error:0.043056\teval-error:0.045\n",
      "[250]\ttrain-error:0.037778\teval-error:0.04\n",
      "[300]\ttrain-error:0.033333\teval-error:0.043\n",
      "[350]\ttrain-error:0.029722\teval-error:0.042\n",
      "[400]\ttrain-error:0.028056\teval-error:0.042\n",
      "Stopping. Best iteration:\n",
      "[242]\ttrain-error:0.038889\teval-error:0.04\n",
      "\n"
     ]
    }
   ],
   "source": [
    "xgb1 = xgb.train(params, dtrain, num_boost_round=2000, evals=watchlist, obj=None,\n",
    "                 feval=None, maximize=False, early_stopping_rounds=200, \n",
    "                 evals_result=evals_result, verbose_eval=50, xgb_model=None, \n",
    "                 callbacks=None)"
   ]
  },
  {
   "cell_type": "code",
   "execution_count": 23,
   "metadata": {},
   "outputs": [
    {
     "name": "stdout",
     "output_type": "stream",
     "text": [
      "\n"
     ]
    },
    {
     "data": {
      "image/png": "[encoded data removed]",
      "text/plain": [
       "<matplotlib.figure.Figure at 0x11a73fa90>"
      ]
     },
     "metadata": {},
     "output_type": "display_data"
    }
   ],
   "source": [
    "# Since the features are anonymous, it is not that important to see the relationship.\n",
    "feat_imp = pd.Series(xgb1.get_fscore()).sort_values(ascending=False)\n",
    "feat_imp.plot(kind='bar', title='Feature Importances')\n",
    "plt.ylabel('Feature Importance Score')\n",
    "print()"
   ]
  },
  {
   "cell_type": "markdown",
   "metadata": {},
   "source": [
    "### Step 2: Tune max_depth and min_child_weight"
   ]
  },
  {
   "cell_type": "code",
   "execution_count": 24,
   "metadata": {
    "collapsed": true
   },
   "outputs": [],
   "source": [
    "def xgboost_parameter_tuning(params, gridsearch_params, \n",
    "                             para_update, dtrain=dtrain, dtest=dtest, \n",
    "                             num_boost_round=2000, \n",
    "                             watchlist = [(dtrain,'train'),(dtest,'eval')], early_stop=300, \n",
    "                             evals_result=None, verbose=False):\n",
    "    \n",
    "    \n",
    "    best_result = float(\"Inf\")\n",
    "    best_params = None \n",
    "    \n",
    "    if type(gridsearch_params[0])==tuple:\n",
    "        # grid_parameters at most 2 \n",
    "        assert((len(gridsearch_params[0])<3))\n",
    "        # grid_parameters combination should be greater than 1\n",
    "        assert(len(gridsearch_params)>1)\n",
    "        # grid_parameters should match the name\n",
    "        assert(len(gridsearch_params[0])==len(para_update))\n",
    "    \n",
    "        # Tunning 2 parameters \n",
    "        if len(gridsearch_params[0]) == 2:\n",
    "            for i, j in gridsearch_params:\n",
    "\n",
    "                # Update our parameters\n",
    "                params[para_update[0]] = i\n",
    "                params[para_update[1]] = j\n",
    "\n",
    "                # Train with updated params\n",
    "                xgb1 = xgb.train(params, dtrain, num_boost_round=num_boost_round, evals=watchlist, obj=None,\n",
    "                                 feval=None, maximize=False, early_stopping_rounds=early_stop, \n",
    "                                 evals_result=evals_result, verbose_eval=verbose, xgb_model=None, \n",
    "                                 callbacks=None)\n",
    "\n",
    "                # Update best metric\n",
    "                print(\"Tuning Parameters: \"+para_update[0]+\"={}\\t\".format(i)+para_update[1]+\"={}\".format(j)+\n",
    "                      \"\\t validation \" + params['eval_metric'][0]+ \" {} for {} rounds\".format(xgb1.best_score, xgb1.best_iteration))\n",
    "                if xgb1.best_score < best_result:\n",
    "                    best_result = xgb1.best_score\n",
    "                    best_params = (i, j)\n",
    "\n",
    "            print(\"\\nBest params: \"+para_update[0]+\"={}, \".format(best_params[0])+\n",
    "                  para_update[1]+\"={}\\t\\t\".format(best_params[1])+\n",
    "                  params['eval_metric'][0]+\": {}\".format(best_result))\n",
    "            params[para_update[0]] = best_params[0]\n",
    "            params[para_update[1]] = best_params[1]\n",
    "        \n",
    "        \n",
    "    # Tunning 1 parameter \n",
    "    if (type(gridsearch_params[0]) == float) or (type(gridsearch_params[0]) == int):\n",
    "        for i in gridsearch_params:\n",
    "            params[para_update[0]] = i\n",
    "            \n",
    "            # Train with updated params\n",
    "            xgb1 = xgb.train(params, dtrain, num_boost_round=num_boost_round, evals=watchlist, obj=None,\n",
    "                             feval=None, maximize=False, early_stopping_rounds=early_stop, \n",
    "                             evals_result=evals_result, verbose_eval=verbose, xgb_model=None, \n",
    "                             callbacks=None)\n",
    "            \n",
    "            # Update best metric\n",
    "            print(\"Tuning Parameters: \"+para_update[0]+\"={}\\t\".format(i)+\n",
    "                  \"\\t validation \" + params['eval_metric'][0]+ \" {} for {} rounds\".format(xgb1.best_score, xgb1.best_iteration))\n",
    "            if xgb1.best_score < best_result:\n",
    "                best_result = xgb1.best_score\n",
    "                best_params = i\n",
    "\n",
    "        print(\"\\nBest params: \"+para_update[0]+\"={}, \".format(best_params)+\n",
    "              params['eval_metric'][0]+\": {}\".format(best_result))\n",
    "        params[para_update[0]] = best_params\n",
    "        \n",
    "    print()\n",
    "    print(params)\n",
    "    return params"
   ]
  },
  {
   "cell_type": "code",
   "execution_count": 25,
   "metadata": {},
   "outputs": [
    {
     "name": "stdout",
     "output_type": "stream",
     "text": [
      "Tuning Parameters: max_depth=7\tmin_child_weight=0.9\t validation error 0.036 for 290 rounds\n",
      "Tuning Parameters: max_depth=7\tmin_child_weight=1\t validation error 0.037 for 307 rounds\n",
      "Tuning Parameters: max_depth=7\tmin_child_weight=1.1\t validation error 0.038 for 320 rounds\n",
      "Tuning Parameters: max_depth=10\tmin_child_weight=0.9\t validation error 0.032 for 209 rounds\n",
      "Tuning Parameters: max_depth=10\tmin_child_weight=1\t validation error 0.032 for 262 rounds\n",
      "Tuning Parameters: max_depth=10\tmin_child_weight=1.1\t validation error 0.034 for 268 rounds\n",
      "Tuning Parameters: max_depth=12\tmin_child_weight=0.9\t validation error 0.033 for 220 rounds\n",
      "Tuning Parameters: max_depth=12\tmin_child_weight=1\t validation error 0.033 for 335 rounds\n",
      "Tuning Parameters: max_depth=12\tmin_child_weight=1.1\t validation error 0.035 for 206 rounds\n",
      "\n",
      "Best params: max_depth=10, min_child_weight=0.9\t\terror: 0.032\n",
      "\n",
      "{'max_depth': 10, 'learning_rate': 0.05, 'n_jobs': -1, 'eval_metric': ['error'], 'objective': 'binary:logistic', 'min_child_weight': 0.9}\n"
     ]
    }
   ],
   "source": [
    "gridsearch_params = [(i, j) for i in [7,10, 12] for j in [.9,1,1.1]]\n",
    "para_update = ['max_depth', 'min_child_weight']\n",
    "\n",
    "params = xgboost_parameter_tuning(params=params, gridsearch_params=gridsearch_params, para_update=para_update)"
   ]
  },
  {
   "cell_type": "markdown",
   "metadata": {},
   "source": [
    "### Step 3: Tune gamma"
   ]
  },
  {
   "cell_type": "code",
   "execution_count": 26,
   "metadata": {},
   "outputs": [
    {
     "name": "stdout",
     "output_type": "stream",
     "text": [
      "Tuning Parameters: gamma=0.0\t\t validation error 0.032 for 209 rounds\n",
      "Tuning Parameters: gamma=0.1\t\t validation error 0.032 for 238 rounds\n",
      "Tuning Parameters: gamma=0.2\t\t validation error 0.032 for 232 rounds\n",
      "Tuning Parameters: gamma=0.3\t\t validation error 0.034 for 226 rounds\n",
      "Tuning Parameters: gamma=0.4\t\t validation error 0.035 for 274 rounds\n",
      "\n",
      "Best params: gamma=0.0, error: 0.032\n",
      "\n",
      "{'max_depth': 10, 'learning_rate': 0.05, 'n_jobs': -1, 'eval_metric': ['error'], 'objective': 'binary:logistic', 'min_child_weight': 0.9, 'gamma': 0.0}\n",
      "CPU times: user 2min 23s, sys: 10.1 s, total: 2min 33s\n",
      "Wall time: 23.4 s\n"
     ]
    }
   ],
   "source": [
    "%%time\n",
    "gridsearch_params = [i/10.0 for i in range(0,5)]\n",
    "para_update = ['gamma']\n",
    "\n",
    "params = xgboost_parameter_tuning(params=params, gridsearch_params=gridsearch_params, para_update=para_update)"
   ]
  },
  {
   "cell_type": "markdown",
   "metadata": {},
   "source": [
    "### Step 4: Tune subsample and colsample_bytree"
   ]
  },
  {
   "cell_type": "code",
   "execution_count": 27,
   "metadata": {},
   "outputs": [
    {
     "name": "stdout",
     "output_type": "stream",
     "text": [
      "Tuning Parameters: subsample=0.7\tcolsample_bytree=0.7\t validation error 0.033 for 386 rounds\n",
      "Tuning Parameters: subsample=0.7\tcolsample_bytree=0.8\t validation error 0.034 for 389 rounds\n",
      "Tuning Parameters: subsample=0.7\tcolsample_bytree=0.9\t validation error 0.035 for 336 rounds\n",
      "Tuning Parameters: subsample=0.8\tcolsample_bytree=0.7\t validation error 0.032 for 138 rounds\n",
      "Tuning Parameters: subsample=0.8\tcolsample_bytree=0.8\t validation error 0.035 for 73 rounds\n",
      "Tuning Parameters: subsample=0.8\tcolsample_bytree=0.9\t validation error 0.033 for 191 rounds\n",
      "Tuning Parameters: subsample=0.9\tcolsample_bytree=0.7\t validation error 0.032 for 195 rounds\n",
      "Tuning Parameters: subsample=0.9\tcolsample_bytree=0.8\t validation error 0.033 for 434 rounds\n",
      "Tuning Parameters: subsample=0.9\tcolsample_bytree=0.9\t validation error 0.034 for 273 rounds\n",
      "\n",
      "Best params: subsample=0.8, colsample_bytree=0.7\t\terror: 0.032\n",
      "\n",
      "{'max_depth': 10, 'learning_rate': 0.05, 'n_jobs': -1, 'eval_metric': ['error'], 'objective': 'binary:logistic', 'min_child_weight': 0.9, 'gamma': 0.0, 'subsample': 0.8, 'colsample_bytree': 0.7}\n"
     ]
    }
   ],
   "source": [
    "gridsearch_params = [(i, j) for i in [i/10.0 for i in range(7,10)] for j in [i/10.0 for i in range(7,10)]]\n",
    "para_update = ['subsample', 'colsample_bytree']\n",
    "\n",
    "params = xgboost_parameter_tuning(params=params, gridsearch_params=gridsearch_params, para_update=para_update)"
   ]
  },
  {
   "cell_type": "markdown",
   "metadata": {},
   "source": [
    "### Step 5: Tuning Regularization Parameters"
   ]
  },
  {
   "cell_type": "code",
   "execution_count": 28,
   "metadata": {},
   "outputs": [
    {
     "name": "stdout",
     "output_type": "stream",
     "text": [
      "Tuning Parameters: reg_alpha=0\t\t validation error 0.032 for 138 rounds\n",
      "Tuning Parameters: reg_alpha=0.001\t\t validation error 0.032 for 142 rounds\n",
      "Tuning Parameters: reg_alpha=0.005\t\t validation error 0.032 for 141 rounds\n",
      "Tuning Parameters: reg_alpha=0.01\t\t validation error 0.031 for 149 rounds\n",
      "Tuning Parameters: reg_alpha=0.05\t\t validation error 0.033 for 175 rounds\n",
      "\n",
      "Best params: reg_alpha=0.01, error: 0.031\n",
      "\n",
      "{'max_depth': 10, 'learning_rate': 0.05, 'n_jobs': -1, 'eval_metric': ['error'], 'objective': 'binary:logistic', 'min_child_weight': 0.9, 'gamma': 0.0, 'subsample': 0.8, 'colsample_bytree': 0.7, 'reg_alpha': 0.01}\n",
      "CPU times: user 1min 29s, sys: 8.77 s, total: 1min 38s\n",
      "Wall time: 15.6 s\n"
     ]
    }
   ],
   "source": [
    "%%time\n",
    "gridsearch_params = [0, 0.001, 0.005, 0.01, 0.05]\n",
    "para_update = ['reg_alpha']\n",
    "\n",
    "params = xgboost_parameter_tuning(params=params, gridsearch_params=gridsearch_params, para_update=para_update)"
   ]
  },
  {
   "cell_type": "markdown",
   "metadata": {},
   "source": [
    "### Step 6: Tuning Learning Rate"
   ]
  },
  {
   "cell_type": "code",
   "execution_count": 29,
   "metadata": {},
   "outputs": [
    {
     "name": "stdout",
     "output_type": "stream",
     "text": [
      "Tuning Parameters: learning_rate=0.001\t\t validation error 0.049 for 138 rounds\n",
      "Tuning Parameters: learning_rate=0.01\t\t validation error 0.033 for 935 rounds\n",
      "Tuning Parameters: learning_rate=0.02\t\t validation error 0.031 for 581 rounds\n",
      "Tuning Parameters: learning_rate=0.03\t\t validation error 0.03 for 432 rounds\n",
      "Tuning Parameters: learning_rate=0.05\t\t validation error 0.031 for 149 rounds\n",
      "Tuning Parameters: learning_rate=0.1\t\t validation error 0.032 for 73 rounds\n",
      "Tuning Parameters: learning_rate=1\t\t validation error 0.044 for 359 rounds\n",
      "\n",
      "Best params: learning_rate=0.03, error: 0.03\n",
      "\n",
      "{'max_depth': 10, 'learning_rate': 0.03, 'n_jobs': -1, 'eval_metric': ['error'], 'objective': 'binary:logistic', 'min_child_weight': 0.9, 'gamma': 0.0, 'subsample': 0.8, 'colsample_bytree': 0.7, 'reg_alpha': 0.01}\n",
      "CPU times: user 3min 3s, sys: 19 s, total: 3min 22s\n",
      "Wall time: 33.3 s\n"
     ]
    }
   ],
   "source": [
    "%%time\n",
    "gridsearch_params = [0.001, 0.01, 0.02, 0.03, 0.05, 0.1, 1]\n",
    "para_update = ['learning_rate']\n",
    "\n",
    "params = xgboost_parameter_tuning(params=params, gridsearch_params=gridsearch_params, para_update=para_update)\n"
   ]
  },
  {
   "cell_type": "markdown",
   "metadata": {},
   "source": [
    "### Final result on validation set"
   ]
  },
  {
   "cell_type": "code",
   "execution_count": 30,
   "metadata": {},
   "outputs": [
    {
     "name": "stdout",
     "output_type": "stream",
     "text": [
      "[0]\ttrain-error:0.069444\teval-error:0.087\n",
      "Multiple eval metrics have been passed: 'eval-error' will be used for early stopping.\n",
      "\n",
      "Will train until eval-error hasn't improved in 500 rounds.\n",
      "[100]\ttrain-error:0.018889\teval-error:0.038\n",
      "[200]\ttrain-error:0.011389\teval-error:0.037\n",
      "[300]\ttrain-error:0.005556\teval-error:0.034\n",
      "[400]\ttrain-error:0.003333\teval-error:0.033\n",
      "[500]\ttrain-error:0.001944\teval-error:0.032\n",
      "[600]\ttrain-error:0.001667\teval-error:0.032\n",
      "[700]\ttrain-error:0.001389\teval-error:0.035\n",
      "[800]\ttrain-error:0.001111\teval-error:0.034\n",
      "[900]\ttrain-error:0.001111\teval-error:0.035\n",
      "Stopping. Best iteration:\n",
      "[432]\ttrain-error:0.002778\teval-error:0.03\n",
      "\n"
     ]
    }
   ],
   "source": [
    "bst = xgb.train(params, dtrain, num_boost_round=5000, evals=watchlist, obj=None,\n",
    "                feval=None, maximize=False, early_stopping_rounds=500, \n",
    "                evals_result=evals_result, verbose_eval=100, xgb_model=None, \n",
    "                callbacks=None)"
   ]
  },
  {
   "cell_type": "code",
   "execution_count": 31,
   "metadata": {},
   "outputs": [
    {
     "name": "stdout",
     "output_type": "stream",
     "text": [
      "\n"
     ]
    },
    {
     "data": {
      "image/png": "[encoded data removed]",
      "text/plain": [
       "<matplotlib.figure.Figure at 0x11a724be0>"
      ]
     },
     "metadata": {},
     "output_type": "display_data"
    }
   ],
   "source": [
    "feat_imp = pd.Series(bst.get_fscore()).sort_values(ascending=False)\n",
    "feat_imp.plot(kind='bar', title='Feature Importances')\n",
    "plt.ylabel('Feature Importance Score')\n",
    "print()"
   ]
  },
  {
   "cell_type": "markdown",
   "metadata": {
    "collapsed": true
   },
   "source": [
    "**The validation error is 0.03 after parameter tunning, which is a significant improvement than Adaboost's best result which is 0.041.**"
   ]
  },
  {
   "cell_type": "code",
   "execution_count": null,
   "metadata": {
    "collapsed": true
   },
   "outputs": [],
   "source": []
  }
 ],
 "metadata": {
  "kernelspec": {
   "display_name": "Python 3",
   "language": "python",
   "name": "python3"
  },
  "language_info": {
   "codemirror_mode": {
    "name": "ipython",
    "version": 3
   },
   "file_extension": ".py",
   "mimetype": "text/x-python",
   "name": "python",
   "nbconvert_exporter": "python",
   "pygments_lexer": "ipython3",
   "version": "3.6.2"
  },
  "toc": {
   "nav_menu": {},
   "number_sections": true,
   "sideBar": true,
   "skip_h1_title": false,
   "toc_cell": false,
   "toc_position": {},
   "toc_section_display": "block",
   "toc_window_display": false
  }
 },
 "nbformat": 4,
 "nbformat_minor": 2
}
